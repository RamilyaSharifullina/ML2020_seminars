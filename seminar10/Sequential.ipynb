{
 "cells": [
  {
   "cell_type": "markdown",
   "metadata": {},
   "source": [
    "<a href=\"https://colab.research.google.com/github/adasegroup/ML2020_seminars/blob/master/seminar10/Sequential.ipynb\" target=\"_parent\"><img src=\"https://colab.research.google.com/assets/colab-badge.svg\" alt=\"Open In Colab\"/></a>"
   ]
  },
  {
   "cell_type": "markdown",
   "metadata": {
    "colab_type": "text",
    "id": "6NyyJNSU3OuM"
   },
   "source": [
    "### Toy Sequential Bayesian Learning"
   ]
  },
  {
   "cell_type": "markdown",
   "metadata": {
    "colab_type": "text",
    "id": "DMWAtwCM3OuP"
   },
   "source": [
    "Course: MA06018, Machine Learning by professor [Evgeny Burnaev](mailto:e.burnaev@skoltech.ru) \n",
    "\n",
    "Author: [Evgenii Egorov](mailto:egorov.evgenyy@ya.ru)"
   ]
  },
  {
   "cell_type": "code",
   "execution_count": 0,
   "metadata": {
    "colab": {},
    "colab_type": "code",
    "id": "4vByMrGo3OuS"
   },
   "outputs": [],
   "source": [
    "import numpy as np\n",
    "from scipy.stats import multivariate_normal as mvn\n",
    "from numpy.polynomial.polynomial import polyval\n",
    "import matplotlib.pyplot as plt\n",
    "%matplotlib inline"
   ]
  },
  {
   "cell_type": "markdown",
   "metadata": {
    "colab_type": "text",
    "id": "tuKdYGqB3Oua"
   },
   "source": [
    "We consider the following model:\n",
    "    \n",
    "\\begin{equation*}\n",
    "    \\begin{aligned}\n",
    "    & p(t_n|x_n, w;\\beta) = \\mathcal{N}(t_n| \\textbf{w}^Tx_n, \\beta^{-1}), \\\\\n",
    "    & p(\\textbf{t}|X,\\textbf{w};\\beta) = \\prod\\limits_{n=1}^{N}p(t_n|x_n, \\textbf{w};\\beta) = \\mathcal{N}(\\textbf{t}|X\\textbf{w}, \\beta^{-1}), \\\\\n",
    "    & p(\\textbf{w};\\alpha) = \\prod\\limits_{d=1}^{D}\\mathcal{N}(w_d|0, \\alpha_d^{-1})=\\mathcal{N}(\\textbf{w}|0,A^{-1}).\n",
    "    \\end{aligned}\n",
    "\\end{equation*}  \n",
    "\n",
    "And for sequential updates we come up with the following equations:\n",
    "\n",
    "\n",
    "- Observe $(X,\\textbf{t})^{1}$ and obtain:\n",
    "\n",
    "    $$\\Sigma_{w}^{-1} = [\\beta X_{(1)}^TX_{(1)} + A]$$\n",
    "    $$\\mu_{w} = \\Sigma_{w}\\beta X^T_{(1)}\\textbf{t}_{(1)}$$\n",
    "    \n",
    "    \n",
    "- Observe $(X,\\textbf{t})^{2}$ and then for joint data:\n",
    "\n",
    "    $$\\Sigma_{w,(1,2)}^{-1} = [\\beta X_{(2)}^T X_{(2)} + \\Sigma_{w}^{-1}]$$\n",
    "    \n",
    "    $$\\mu_{w,(1,2)} = \\Sigma_{w,(1,2)}(\\beta X_{(2)}^T\\textbf{t}_{(2)}+\\Sigma^{-1}_w\\mu_w)$$\n",
    "\n",
    "- $\\dots$\n",
    "\n",
    "\n",
    "For details and derivations please see the corresponding slides: [slides](https://drive.google.com/open?id=1ezz6LXef6pFdbljSvvZIlnmYqietQg-s)"
   ]
  },
  {
   "cell_type": "markdown",
   "metadata": {
    "colab_type": "text",
    "id": "UKSJs-cf3Oub"
   },
   "source": [
    "##### Task 1.1\n",
    "Please write code at the method <i>update_w</i>."
   ]
  },
  {
   "cell_type": "code",
   "execution_count": 0,
   "metadata": {
    "colab": {},
    "colab_type": "code",
    "id": "EkbCJAdf3Oud"
   },
   "outputs": [],
   "source": [
    "class BLR:\n",
    "    def __init__(self, A, beta, x_dim=2):\n",
    "        self.w_Pr = {'mu': np.zeros(x_dim), 'cov': np.linalg.inv(A), 'inv_cov': A}\n",
    "        self.beta = beta\n",
    "        \n",
    "    def update_w(self, X, y, verbose=False):\n",
    "        inv_cov = # write code here\n",
    "        cov = # write code here\n",
    "        mu = # write code here\n",
    "        \n",
    "        self.w_Pr = {'mu': mu.flatten(), 'cov': cov, 'inv_cov': inv_cov}\n",
    "        return {'mu': mu.flatten(), 'cov': cov, 'inv_cov': inv_cov} if verbose else 0.0\n",
    "    \n",
    "    def plot_w_space(self, ax, b=15.):\n",
    "        xx, yy = np.mgrid[-b:b:0.01, -b:b:0.01]\n",
    "        grid = np.c_[xx.ravel(), yy.ravel()]\n",
    "        probs = mvn.logpdf(grid, mean=self.w_Pr['mu'], cov=self.w_Pr['cov'])\n",
    "        contour = ax.contourf(xx,yy,probs.reshape(xx.shape))\n",
    "        \n",
    "    def plot_poly_data_space(self, x, y, ax, k=2):\n",
    "        k_points = np.linspace(-1.1, 1.1, num=k+1)\n",
    "        for i in range(50):\n",
    "            w = np.random.multivariate_normal(self.w_Pr['mu'], self.w_Pr['cov'])\n",
    "            poly_values = np.zeros_like(k_points)\n",
    "            poly_values = polyval(k_points, w)\n",
    "            ax.plot(k_points, poly_values, 'r-', alpha=0.15)\n",
    "        \n",
    "        ax.scatter(x[:,:,1].flatten(), y.flatten(), edgecolor=\"white\", alpha=0.75, color='blue')\n",
    "        ax.scatter(x[-1,:,1].flatten(), y[-1].flatten(), edgecolor=\"white\", alpha=1., color='green')\n",
    "        \n",
    "    def plot_data_space(self, x, y, ax):\n",
    "        a, b = (-1.1, 1.1) \n",
    "        for i in range(50):\n",
    "            w = np.random.multivariate_normal(self.w_Pr['mu'], self.w_Pr['cov'])\n",
    "            ax.plot(np.array([a,b]), np.array([w[0]+w[1]*a, w[0]+w[1]*b]), 'r-', alpha=0.15)\n",
    "        ax.scatter(x[:,:,1].flatten(), y.flatten(), edgecolor=\"white\", alpha=0.75, color='blue')\n",
    "        ax.scatter(x[-1,:,1].flatten(), y[-1].flatten(), edgecolor=\"white\", alpha=1., color='green')"
   ]
  },
  {
   "cell_type": "markdown",
   "metadata": {
    "colab_type": "text",
    "id": "O3Z43Jam3Oui"
   },
   "source": [
    "##### Task 1.2\n",
    "Now we code test your code at simple linear example"
   ]
  },
  {
   "cell_type": "code",
   "execution_count": 0,
   "metadata": {
    "colab": {},
    "colab_type": "code",
    "id": "fCIaW5ZC3Ouj"
   },
   "outputs": [],
   "source": [
    "x1 = np.linspace(-1, 1, 10)\n",
    "np.random.shuffle(x1)\n",
    "x1 = x1.reshape(5, 2)\n",
    "\n",
    "y = 1.5 + 12. * x1\n",
    "y += np.random.randn(*y.shape) * 2.5\n",
    "\n",
    "x0 = np.ones_like(x1)\n",
    "X = np.stack([x0, x1], axis=-1)"
   ]
  },
  {
   "cell_type": "code",
   "execution_count": 0,
   "metadata": {
    "colab": {},
    "colab_type": "code",
    "id": "eFxZRj1s3Oup"
   },
   "outputs": [],
   "source": [
    "reg = BLR(np.diag([1.,1.]), 1.)"
   ]
  },
  {
   "cell_type": "code",
   "execution_count": 0,
   "metadata": {
    "colab": {},
    "colab_type": "code",
    "id": "FJzVn7d13Ouu"
   },
   "outputs": [],
   "source": [
    "chunks = 5\n",
    "fig, ax = plt.subplots(chunks,2, figsize=(8,16))\n",
    "for i in range(chunks):\n",
    "    reg.update_w(X[i], y[i])\n",
    "    reg.plot_data_space(X[:i+1], y[:i+1], ax[i,0])\n",
    "    reg.plot_w_space(ax[i,1])\n",
    "    ax[i,1].set_title(reg.w_Pr['mu'])\n",
    "for i in ax.flatten(): i.grid()"
   ]
  },
  {
   "cell_type": "markdown",
   "metadata": {
    "colab_type": "text",
    "id": "t7TsUj-y3Ouz"
   },
   "source": [
    "##### Task 1.3\n",
    "Let's see how it will be going on at mode complex example"
   ]
  },
  {
   "cell_type": "code",
   "execution_count": 0,
   "metadata": {
    "colab": {},
    "colab_type": "code",
    "id": "PhrhVwdz3Ou1"
   },
   "outputs": [],
   "source": [
    "x1 = np.linspace(-1, 1, 100)\n",
    "x1 = x1.reshape(10, 10)\n",
    "\n",
    "y = np.sin(1/x1) * x1\n",
    "y += np.random.randn(*y.shape) * 0.1\n",
    "\n",
    "x0 = np.ones_like(x1)\n",
    "x2 = x1 ** 2\n",
    "x3 = x1 ** 3\n",
    "x4 = x1 ** 4\n",
    "X = np.stack([x0, x1, x2, x3, x4], axis=-1)"
   ]
  },
  {
   "cell_type": "code",
   "execution_count": 0,
   "metadata": {
    "colab": {},
    "colab_type": "code",
    "id": "aBME-CX63Ou6"
   },
   "outputs": [],
   "source": [
    "reg = BLR(np.diag([1.,1.,1.,1.,1]), 25., x_dim=5)"
   ]
  },
  {
   "cell_type": "code",
   "execution_count": 0,
   "metadata": {
    "colab": {},
    "colab_type": "code",
    "id": "_FESTsd33Ou9"
   },
   "outputs": [],
   "source": [
    "chunks = 10\n",
    "fig, ax = plt.subplots(2, chunks//2, figsize=(12,12), sharex=True)\n",
    "\n",
    "for i, a in enumerate(ax.flatten()):\n",
    "    reg.update_w(X[i], y[i])\n",
    "    reg.plot_poly_data_space(X[:i+1], y[:i+1], a, k=50)\n",
    "for i in ax.flatten(): i.grid()"
   ]
  }
 ],
 "metadata": {
  "colab": {
   "collapsed_sections": [],
   "name": "Sequential.ipynb",
   "provenance": []
  },
  "kernelspec": {
   "display_name": "Python 3",
   "language": "python",
   "name": "python3"
  },
  "language_info": {
   "codemirror_mode": {
    "name": "ipython",
    "version": 3
   },
   "file_extension": ".py",
   "mimetype": "text/x-python",
   "name": "python",
   "nbconvert_exporter": "python",
   "pygments_lexer": "ipython3",
   "version": "3.7.1"
  }
 },
 "nbformat": 4,
 "nbformat_minor": 1
}
