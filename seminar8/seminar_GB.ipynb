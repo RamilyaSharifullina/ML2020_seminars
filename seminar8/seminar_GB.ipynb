{
 "cells": [
  {
   "cell_type": "markdown",
   "metadata": {
    "colab_type": "text",
    "id": "iiXRU2TZxQ_d"
   },
   "source": [
    "<a href=\"https://colab.research.google.com/github/adasegroup/ML2020_seminars/blob/master/seminar8/seminar_GB.ipynb\" target=\"_parent\"><img src=\"https://colab.research.google.com/assets/colab-badge.svg\" alt=\"Open In Colab\"/></a>"
   ]
  },
  {
   "cell_type": "markdown",
   "metadata": {
    "colab_type": "text",
    "id": "cyp6PF6XxQ_f"
   },
   "source": [
    "# Seminar: Gradient Boosting\n",
    "Course: Machine Learning by professor Evgeny Burnaev\n",
    "<br>\n",
    "Author: Andrey Lange"
   ]
  },
  {
   "cell_type": "markdown",
   "metadata": {
    "colab_type": "text",
    "id": "lzh9AHkuxVbd"
   },
   "source": []
  },
  {
   "cell_type": "markdown",
   "metadata": {
    "colab_type": "text",
    "id": "duezzdlyhUqS"
   },
   "source": [
    "### The problem statement\n"
   ]
  },
  {
   "cell_type": "markdown",
   "metadata": {
    "colab_type": "text",
    "id": "i4W9dO72xW7X"
   },
   "source": []
  },
  {
   "cell_type": "markdown",
   "metadata": {
    "colab_type": "text",
    "id": "_rZVv6TzdvZ4"
   },
   "source": [
    "The solution is found in the form of sum over random trees $h_m(x)$,\n",
    "$$F(x) = \\sum_{m=1}^{M} h_m(x).$$\n",
    "\n",
    "The additive model is built in a greedy fashion:\n",
    "$$f_m(x) = f_{m-1}(x) + h_m(x).$$\n",
    "\n",
    "Having loss function $L(y, f)$, we find every new tree from the optimization\n",
    "$$h_m =  \\arg\\min_{h} \\sum_{i=1}^{n} L(y_i, f_{m-1}(x_i) + h(x_i)).$$\n",
    "\n",
    "\n",
    "\n",
    "\n",
    "\n",
    "\n",
    "\n"
   ]
  },
  {
   "cell_type": "markdown",
   "metadata": {
    "colab_type": "text",
    "id": "j9NZM4eHxbKX"
   },
   "source": []
  },
  {
   "cell_type": "markdown",
   "metadata": {
    "colab_type": "text",
    "id": "PblcHpTGhbqq"
   },
   "source": [
    "### How the problem is solved\n"
   ]
  },
  {
   "cell_type": "markdown",
   "metadata": {
    "colab_type": "text",
    "id": "LxbbcT4Lxgho"
   },
   "source": []
  },
  {
   "cell_type": "markdown",
   "metadata": {
    "colab_type": "text",
    "id": "bJY6lpLQiGLX"
   },
   "source": [
    "Linear approximation of loss function $L(y, f)$ and the gradient descent method:\n",
    "\n",
    "$$\\gamma_m = \\arg\\min_{\\gamma} \\sum_{i=1}^{n} L(y_i, f_{m-1}(x_i)\n",
    "- \\gamma \\frac{\\partial L(y_i, f_{m-1}(x_i))}{\\partial f_{m-1}(x_i)}).$$\n",
    "\n",
    "A random tree $h(x)$ is fit to targets that are the gradients $\\quad -\\frac{\\partial L(y_i, f_{m-1}(x_i))}{\\partial f_{m-1}(x_i)}.$\n",
    "\n",
    "A new tree is added to the approximation with optimal $\\gamma_m$ and additional shrinkage $\\nu$:\n",
    "\n",
    "$$f_m(x) = f_{m-1}(x) + \\nu \\gamma_m h_m(x).$$\n",
    "\n",
    "The initial model $f_0(x)$ is problem specific, for least-squares regression one usually chooses the mean of the target values.\n",
    "\n"
   ]
  },
  {
   "cell_type": "code",
   "execution_count": 0,
   "metadata": {
    "colab": {},
    "colab_type": "code",
    "id": "iNxHHP-sxQ_h"
   },
   "outputs": [],
   "source": [
    "import numpy as np\n",
    "import pandas as pd\n",
    "import matplotlib.pyplot as plt\n",
    "%matplotlib inline\n",
    "\n",
    "from sklearn.ensemble import GradientBoostingRegressor\n",
    "from sklearn.tree import DecisionTreeRegressor"
   ]
  },
  {
   "cell_type": "markdown",
   "metadata": {
    "colab_type": "text",
    "id": "yZt2TJJixQ_l"
   },
   "source": [
    "## Example 1: Gradient Boosting for regression"
   ]
  },
  {
   "cell_type": "code",
   "execution_count": 0,
   "metadata": {
    "colab": {},
    "colab_type": "code",
    "id": "pvT_RLZzxQ_m"
   },
   "outputs": [],
   "source": [
    "def get_dataset_1d():\n",
    "    # prepare dataset\n",
    "    n = 1                      # number of features\n",
    "    N = 100**n                 # number of samples\n",
    "    np.random.seed(0)\n",
    "    X = np.random.random((N, n))*3\n",
    "    coeffs = 1 +  2 * np.random.random((n, 1))\n",
    "    y = np.sin(np.matmul(X*X, coeffs)) + np.random.random((N, 1))/3\n",
    "    y = y.ravel()\n",
    "    \n",
    "    return (X, y)\n",
    "    \n",
    "def plot_results(X, y, y_pred, title=''):\n",
    "    plt.plot(X, y, '*b')\n",
    "    plt.plot(X, y_pred, '.r')\n",
    "    plt.title(title)\n",
    "    plt.xlabel('x1')\n",
    "    plt.ylabel('y')\n",
    "    plt.show()"
   ]
  },
  {
   "cell_type": "markdown",
   "metadata": {
    "colab_type": "text",
    "id": "2aVeLp9DxQ_q"
   },
   "source": [
    "\n",
    "---\n",
    "\n",
    "### Question 1.\n",
    "In the following example a Gradient Boosting regression is performed by only 1 tree and very small shrinkage `nu=1e-10`. The solution looks like a constant.\n",
    "\n",
    "1.1. Why it looks like a constant?\n",
    "<br>\n",
    "1.2. Try to find that constant value taking into account that `loss='ls'` and draw it on the same plot."
   ]
  },
  {
   "cell_type": "code",
   "execution_count": 3,
   "metadata": {
    "colab": {
     "base_uri": "https://localhost:8080/",
     "height": 279
    },
    "colab_type": "code",
    "id": "1DhZEWlpxQ_r",
    "outputId": "589c4419-39a0-4160-9d70-825ee3cce088",
    "scrolled": true
   },
   "outputs": [
    {
     "data": {
      "image/png": "[encoded data removed]",
      "text/plain": [
       "<Figure size 432x288 with 1 Axes>"
      ]
     },
     "metadata": {
      "tags": []
     },
     "output_type": "display_data"
    }
   ],
   "source": [
    "X, y = get_dataset_1d()\n",
    "\n",
    "clf = GradientBoostingRegressor(loss='ls', max_depth=1, learning_rate=1e-10, n_estimators=1)\n",
    "clf.fit(X, y)\n",
    "y_pred = clf.predict(X)\n",
    "plot_results(X, y, y_pred)"
   ]
  },
  {
   "cell_type": "markdown",
   "metadata": {
    "colab_type": "text",
    "id": "SupdGqeKxQ_u"
   },
   "source": [
    "\n",
    "---\n",
    "\n",
    "### Question 2. \n",
    "Solve above question for `loss='lad'`."
   ]
  },
  {
   "cell_type": "markdown",
   "metadata": {
    "colab_type": "text",
    "id": "8TlAbVKMxQ_u"
   },
   "source": [
    "\n",
    "---\n",
    "\n",
    "### Question 3. \n",
    "Some managers of industrial Data Science projects said me that each tree in Gradient Boosting is fit to the targets that are simply the differences $y_i-f_{m-1}(x_i)$ between the values $y_i$ and the current approximation $f_{m-1}(x_i)$ found on the previous step $m-1$. When is it correct?"
   ]
  },
  {
   "cell_type": "markdown",
   "metadata": {
    "colab_type": "text",
    "id": "uvvgrtiGxQ_w"
   },
   "source": [
    "\n",
    "---\n",
    "\n",
    "### Question 4*. \n",
    "Actually, the managers from the question above said not only to what the trees are fit but also that the current solution is updated by simply adding each new tree multiplied by a shrinkage parameter and ignore any sophisticated math! :[]\n",
    "\n",
    "The following code shows 2 ways of using the Gradient Boosting for regression:\n",
    "1. Using the class `GradientBoostingRegressor()` - as it should be done if you use scikit-learn\n",
    "2. Our own implementation by adding a tree step by step with shrinkage\n",
    "\n",
    "Ensure that the pictures are the same no matter how you change the hyperparameters `max_depth`, `n_estimators` and `nu`!\n",
    "\n",
    "In our implementation we fit each tree to the targets $y_i-f_{m-1}(x_i)$ (if you answered on the above question you know that it is correct here) multiply by shrinkage $\\nu$ and add to the current model. But it seems that something is missing in our code. No matter how exactly the Gradient Boosting is implemented in scikit-learn, there are many slightly different variants. Assume that it is as described here https://scikit-learn.org/stable/modules/ensemble.html#mathematical-formulation, where the steepest descent chooses the optimal step length\n",
    "$$\n",
    "\\gamma_m = \\arg\\min_{\\gamma} \\sum_{i=1}^{n} \n",
    "L\n",
    "\\left(\n",
    "y_i, f_{m-1}(x_i)\n",
    "- \\gamma \\nabla_F L(y_i, f_{m-1}(x_i))\n",
    "\\right),\n",
    "$$\n",
    "which is used for the model update\n",
    "$$\n",
    "f_m(x) = f_{m-1}(x) - \\gamma_m \\sum_{i=1}^{n} \\nabla_F L(y_i, f_{m-1}(x_i)).\n",
    "$$\n",
    "But we did not implement it! Justify the correctness of our easy implementation of GB."
   ]
  },
  {
   "cell_type": "code",
   "execution_count": 4,
   "metadata": {
    "colab": {
     "base_uri": "https://localhost:8080/",
     "height": 573
    },
    "colab_type": "code",
    "id": "5LbDtxiyxQ_x",
    "outputId": "4ee060f4-64ef-4674-9562-c96a854d396e"
   },
   "outputs": [
    {
     "data": {
      "image/png": "[encoded data removed]",
      "text/plain": [
       "<Figure size 432x288 with 1 Axes>"
      ]
     },
     "metadata": {
      "tags": []
     },
     "output_type": "display_data"
    },
    {
     "data": {
      "image/png": "[encoded data removed]",
      "text/plain": [
       "<Figure size 432x288 with 1 Axes>"
      ]
     },
     "metadata": {
      "tags": []
     },
     "output_type": "display_data"
    }
   ],
   "source": [
    "X, y = get_dataset_1d()\n",
    "\n",
    "max_depth = 3\n",
    "n_estimators = 6\n",
    "nu = 0.8                            # shrinkage\n",
    "\n",
    "# usual Gradient Boosting call\n",
    "clf = GradientBoostingRegressor(loss='ls', max_depth=max_depth, learning_rate=nu, n_estimators=n_estimators)\n",
    "clf.fit(X, y)\n",
    "f = clf.predict(X)\n",
    "plot_results(X, y, f, 'Gradient Boosting from scikit-learn')\n",
    "\n",
    "# my Gradient Boosting implementation\n",
    "clf = DecisionTreeRegressor(max_depth=max_depth)\n",
    "f = np.mean(y)                      # initialization\n",
    "for m in range(1, n_estimators+1):\n",
    "    f = f + clf.fit(X, y - f).predict(X) * nu # fit to the difference and shrink\n",
    "plot_results(X, y, f, 'My simple Gradient Boosting, the same as above!')"
   ]
  },
  {
   "cell_type": "markdown",
   "metadata": {
    "colab_type": "text",
    "id": "q81hyo-TxQ_z"
   },
   "source": [
    "## Example 2: Gradient Boosting for classification, CatBoost.\n",
    "\n",
    "Lets consider Titanic data! Below is yet another example of easy feature engineering, data preprocessing and the application of Gradient Boosting"
   ]
  },
  {
   "cell_type": "code",
   "execution_count": 0,
   "metadata": {
    "colab": {},
    "colab_type": "code",
    "id": "4I_aCvkIxQ_0"
   },
   "outputs": [],
   "source": [
    "## load data and some easy preprocessing, even Feature Engineering\n",
    "# we use only training dataset because the Kaggle's testing one does not have class labels \n",
    "# and so we can not measure the model quality\n",
    "\n",
    "X_train = pd.read_csv('https://raw.githubusercontent.com/adasegroup/ML2020_seminars/master/seminar8/data/train.csv')\n",
    "y_train = X_train['Survived']\n",
    "X_train = X_train.drop(['PassengerId', 'Survived', 'Name', 'Ticket'], axis=1)\n",
    "\n",
    "# take only the first letter from the Cabin number, which is maybe the ship level...\n",
    "def keep_only_level_of_cabin(X):\n",
    "    idx = X['Cabin'].notnull()\n",
    "    X.loc[idx, 'Cabin'] = [s.strip()[0] for s in X['Cabin'][idx].values]\n",
    "    return X\n",
    "\n",
    "# CatBoost can not process categorical features with NaN, we set them to the string 'MISS'\n",
    "def change_NaN_to_str(X, cat_features_cols):\n",
    "    for col in cat_features_cols:\n",
    "        idx = X[col].isnull()\n",
    "        X.loc[idx, col] = 'MISS'\n",
    "    return X\n",
    "\n",
    "X_train = keep_only_level_of_cabin(X_train)\n",
    "X_train = change_NaN_to_str(X_train, ['Sex', 'Cabin', 'Embarked'])"
   ]
  },
  {
   "cell_type": "code",
   "execution_count": 6,
   "metadata": {
    "colab": {
     "base_uri": "https://localhost:8080/",
     "height": 404
    },
    "colab_type": "code",
    "id": "Ib4lPJ57xQ_3",
    "outputId": "306c3cf9-859a-4622-fd7a-94b1dcf4a33d"
   },
   "outputs": [
    {
     "data": {
      "text/html": [
       "<div>\n",
       "<style scoped>\n",
       "    .dataframe tbody tr th:only-of-type {\n",
       "        vertical-align: middle;\n",
       "    }\n",
       "\n",
       "    .dataframe tbody tr th {\n",
       "        vertical-align: top;\n",
       "    }\n",
       "\n",
       "    .dataframe thead th {\n",
       "        text-align: right;\n",
       "    }\n",
       "</style>\n",
       "<table border=\"1\" class=\"dataframe\">\n",
       "  <thead>\n",
       "    <tr style=\"text-align: right;\">\n",
       "      <th></th>\n",
       "      <th>Pclass</th>\n",
       "      <th>Sex</th>\n",
       "      <th>Age</th>\n",
       "      <th>SibSp</th>\n",
       "      <th>Parch</th>\n",
       "      <th>Fare</th>\n",
       "      <th>Cabin</th>\n",
       "      <th>Embarked</th>\n",
       "    </tr>\n",
       "  </thead>\n",
       "  <tbody>\n",
       "    <tr>\n",
       "      <th>0</th>\n",
       "      <td>3</td>\n",
       "      <td>male</td>\n",
       "      <td>22.0</td>\n",
       "      <td>1</td>\n",
       "      <td>0</td>\n",
       "      <td>7.2500</td>\n",
       "      <td>MISS</td>\n",
       "      <td>S</td>\n",
       "    </tr>\n",
       "    <tr>\n",
       "      <th>1</th>\n",
       "      <td>1</td>\n",
       "      <td>female</td>\n",
       "      <td>38.0</td>\n",
       "      <td>1</td>\n",
       "      <td>0</td>\n",
       "      <td>71.2833</td>\n",
       "      <td>C</td>\n",
       "      <td>C</td>\n",
       "    </tr>\n",
       "    <tr>\n",
       "      <th>2</th>\n",
       "      <td>3</td>\n",
       "      <td>female</td>\n",
       "      <td>26.0</td>\n",
       "      <td>0</td>\n",
       "      <td>0</td>\n",
       "      <td>7.9250</td>\n",
       "      <td>MISS</td>\n",
       "      <td>S</td>\n",
       "    </tr>\n",
       "    <tr>\n",
       "      <th>3</th>\n",
       "      <td>1</td>\n",
       "      <td>female</td>\n",
       "      <td>35.0</td>\n",
       "      <td>1</td>\n",
       "      <td>0</td>\n",
       "      <td>53.1000</td>\n",
       "      <td>C</td>\n",
       "      <td>S</td>\n",
       "    </tr>\n",
       "    <tr>\n",
       "      <th>4</th>\n",
       "      <td>3</td>\n",
       "      <td>male</td>\n",
       "      <td>35.0</td>\n",
       "      <td>0</td>\n",
       "      <td>0</td>\n",
       "      <td>8.0500</td>\n",
       "      <td>MISS</td>\n",
       "      <td>S</td>\n",
       "    </tr>\n",
       "    <tr>\n",
       "      <th>...</th>\n",
       "      <td>...</td>\n",
       "      <td>...</td>\n",
       "      <td>...</td>\n",
       "      <td>...</td>\n",
       "      <td>...</td>\n",
       "      <td>...</td>\n",
       "      <td>...</td>\n",
       "      <td>...</td>\n",
       "    </tr>\n",
       "    <tr>\n",
       "      <th>886</th>\n",
       "      <td>2</td>\n",
       "      <td>male</td>\n",
       "      <td>27.0</td>\n",
       "      <td>0</td>\n",
       "      <td>0</td>\n",
       "      <td>13.0000</td>\n",
       "      <td>MISS</td>\n",
       "      <td>S</td>\n",
       "    </tr>\n",
       "    <tr>\n",
       "      <th>887</th>\n",
       "      <td>1</td>\n",
       "      <td>female</td>\n",
       "      <td>19.0</td>\n",
       "      <td>0</td>\n",
       "      <td>0</td>\n",
       "      <td>30.0000</td>\n",
       "      <td>B</td>\n",
       "      <td>S</td>\n",
       "    </tr>\n",
       "    <tr>\n",
       "      <th>888</th>\n",
       "      <td>3</td>\n",
       "      <td>female</td>\n",
       "      <td>NaN</td>\n",
       "      <td>1</td>\n",
       "      <td>2</td>\n",
       "      <td>23.4500</td>\n",
       "      <td>MISS</td>\n",
       "      <td>S</td>\n",
       "    </tr>\n",
       "    <tr>\n",
       "      <th>889</th>\n",
       "      <td>1</td>\n",
       "      <td>male</td>\n",
       "      <td>26.0</td>\n",
       "      <td>0</td>\n",
       "      <td>0</td>\n",
       "      <td>30.0000</td>\n",
       "      <td>C</td>\n",
       "      <td>C</td>\n",
       "    </tr>\n",
       "    <tr>\n",
       "      <th>890</th>\n",
       "      <td>3</td>\n",
       "      <td>male</td>\n",
       "      <td>32.0</td>\n",
       "      <td>0</td>\n",
       "      <td>0</td>\n",
       "      <td>7.7500</td>\n",
       "      <td>MISS</td>\n",
       "      <td>Q</td>\n",
       "    </tr>\n",
       "  </tbody>\n",
       "</table>\n",
       "<p>891 rows × 8 columns</p>\n",
       "</div>"
      ],
      "text/plain": [
       "     Pclass     Sex   Age  SibSp  Parch     Fare Cabin Embarked\n",
       "0         3    male  22.0      1      0   7.2500  MISS        S\n",
       "1         1  female  38.0      1      0  71.2833     C        C\n",
       "2         3  female  26.0      0      0   7.9250  MISS        S\n",
       "3         1  female  35.0      1      0  53.1000     C        S\n",
       "4         3    male  35.0      0      0   8.0500  MISS        S\n",
       "..      ...     ...   ...    ...    ...      ...   ...      ...\n",
       "886       2    male  27.0      0      0  13.0000  MISS        S\n",
       "887       1  female  19.0      0      0  30.0000     B        S\n",
       "888       3  female   NaN      1      2  23.4500  MISS        S\n",
       "889       1    male  26.0      0      0  30.0000     C        C\n",
       "890       3    male  32.0      0      0   7.7500  MISS        Q\n",
       "\n",
       "[891 rows x 8 columns]"
      ]
     },
     "execution_count": 6,
     "metadata": {
      "tags": []
     },
     "output_type": "execute_result"
    }
   ],
   "source": [
    "X_train"
   ]
  },
  {
   "cell_type": "markdown",
   "metadata": {
    "colab_type": "text",
    "id": "7ydpmPwfxQ_5"
   },
   "source": [
    "### Note: \n",
    "\n",
    "  1. We use categorical features and CatBoost processes it ok.\n",
    "\n",
    "  \n",
    "  2. Below you can see the tuning of CatBoost with cross-validation, you can play with the hyperparameter ranges.\n",
    "  \n",
    "  \n",
    "  3. You can \"unnatural disable\" cross-validation and ensure that the best score increases (although it is impractical because of overfitting).\n",
    "  \n",
    "  \n",
    "  4. CatBoost processes contineous feature 'Age' despite there are NaNs. It is easy for trees - we can, say, just ignore these values.\n",
    "  \n",
    "  \n",
    "  5. We preprocess the 'Cabin' feature so that it has only the level ('C', 'E', ...). \n",
    "  This is so that there would not be a large number of unique noninformative values. And here we process NaNs as special 'MISS' value because it may mean not the incompletness in the data, but that no any proper value can be for some samples (it is highly correlated with 'Pclass' feature).  \n",
    "  \n",
    "  \n",
    "  6. You can play with feature importances: drop the most important feature and check how the accuracy and the roc_auc reduce. Do the same with the least important feature and feel who affects more. "
   ]
  },
  {
   "cell_type": "code",
   "execution_count": 7,
   "metadata": {
    "colab": {
     "base_uri": "https://localhost:8080/",
     "height": 977
    },
    "colab_type": "code",
    "id": "Fs84xQ5bxQ_5",
    "outputId": "77e53ea4-3624-4f1d-81e2-f3a9d6b07738"
   },
   "outputs": [
    {
     "name": "stdout",
     "output_type": "stream",
     "text": [
      "Requirement already satisfied: catboost in /usr/local/lib/python3.6/dist-packages (0.21)\n",
      "Requirement already satisfied: scipy in /usr/local/lib/python3.6/dist-packages (from catboost) (1.4.1)\n",
      "Requirement already satisfied: matplotlib in /usr/local/lib/python3.6/dist-packages (from catboost) (3.1.3)\n",
      "Requirement already satisfied: graphviz in /usr/local/lib/python3.6/dist-packages (from catboost) (0.10.1)\n",
      "Requirement already satisfied: six in /usr/local/lib/python3.6/dist-packages (from catboost) (1.12.0)\n",
      "Requirement already satisfied: numpy>=1.16.0 in /usr/local/lib/python3.6/dist-packages (from catboost) (1.17.5)\n",
      "Requirement already satisfied: pandas>=0.24.0 in /usr/local/lib/python3.6/dist-packages (from catboost) (0.25.3)\n",
      "Requirement already satisfied: plotly in /usr/local/lib/python3.6/dist-packages (from catboost) (4.4.1)\n",
      "Requirement already satisfied: cycler>=0.10 in /usr/local/lib/python3.6/dist-packages (from matplotlib->catboost) (0.10.0)\n",
      "Requirement already satisfied: kiwisolver>=1.0.1 in /usr/local/lib/python3.6/dist-packages (from matplotlib->catboost) (1.1.0)\n",
      "Requirement already satisfied: pyparsing!=2.0.4,!=2.1.2,!=2.1.6,>=2.0.1 in /usr/local/lib/python3.6/dist-packages (from matplotlib->catboost) (2.4.6)\n",
      "Requirement already satisfied: python-dateutil>=2.1 in /usr/local/lib/python3.6/dist-packages (from matplotlib->catboost) (2.6.1)\n",
      "Requirement already satisfied: pytz>=2017.2 in /usr/local/lib/python3.6/dist-packages (from pandas>=0.24.0->catboost) (2018.9)\n",
      "Requirement already satisfied: retrying>=1.3.3 in /usr/local/lib/python3.6/dist-packages (from plotly->catboost) (1.3.3)\n",
      "Requirement already satisfied: setuptools in /usr/local/lib/python3.6/dist-packages (from kiwisolver>=1.0.1->matplotlib->catboost) (45.1.0)\n",
      "best accuracy score: 0.8136924803591471\n"
     ]
    },
    {
     "data": {
      "image/png": "[encoded data removed]",
      "text/plain": [
       "<Figure size 432x288 with 1 Axes>"
      ]
     },
     "metadata": {
      "tags": []
     },
     "output_type": "display_data"
    },
    {
     "data": {
      "image/png": "[encoded data removed]",
      "text/plain": [
       "<Figure size 648x432 with 1 Axes>"
      ]
     },
     "metadata": {
      "tags": []
     },
     "output_type": "display_data"
    }
   ],
   "source": [
    "!pip install catboost\n",
    "from catboost import CatBoostClassifier\n",
    "from sklearn.model_selection import GridSearchCV\n",
    "from sklearn.metrics import roc_curve\n",
    "\n",
    "clf = CatBoostClassifier(loss_function = 'Logloss',\n",
    "                         # categorical features processing: \n",
    "                         cat_features  = np.where(X_train.columns.isin(['Sex', 'Cabin', 'Embarked']))[0], \n",
    "                         verbose = 0)\n",
    "\n",
    "clf = GridSearchCV(clf,\n",
    "                   # you can play with tuning, up to your CPU performance:\n",
    "                   {'max_depth': [1, 3, 5], 'n_estimators': [50, 150], 'learning_rate': [0.001, 0.01, 0.1, 1]},\n",
    "                   # cross-validation prevents overfitting! you can disable it by setting \n",
    "                   # cv = [(np.array(range(len(y_train))), np.array(range(len(y_train))))]\n",
    "                   cv = 3)\n",
    "clf.fit(X_train, y_train)\n",
    "\n",
    "print('best accuracy score:', clf.best_score_) # validation score\n",
    "\n",
    "# feature importances\n",
    "fi = pd.Series(clf.best_estimator_.feature_importances_, index=X_train.columns)\n",
    "fi.sort_values(ascending=False).plot(kind='bar')\n",
    "plt.title('feature importances')\n",
    "plt.show()\n",
    "\n",
    "# now let's draw different ROC curves\n",
    "plt.figure(figsize=[9, 6])\n",
    "fpr, tpr, _ = roc_curve(y_train, clf.predict_proba(X_train)[:, 1])\n",
    "plt.plot(fpr, tpr, 'r', label='train')\n",
    "fpr, tpr, _ = roc_curve(y_train, clf.predict(X_train))\n",
    "plt.plot(fpr, tpr, '--o', label='binary output, train')\n",
    "plt.legend(bbox_to_anchor=(0.999, 1))\n",
    "plt.title('ROC curves')\n",
    "plt.xlabel('False positive rate')\n",
    "plt.ylabel('True positive rate')\n",
    "plt.show()"
   ]
  },
  {
   "cell_type": "code",
   "execution_count": 0,
   "metadata": {
    "colab": {},
    "colab_type": "code",
    "id": "clyGXkHnxQ_8"
   },
   "outputs": [],
   "source": []
  }
 ],
 "metadata": {
  "colab": {
   "name": "seminar_GB.ipynb",
   "provenance": []
  },
  "kernelspec": {
   "display_name": "Python 3",
   "language": "python",
   "name": "python3"
  },
  "language_info": {
   "codemirror_mode": {
    "name": "ipython",
    "version": 3
   },
   "file_extension": ".py",
   "mimetype": "text/x-python",
   "name": "python",
   "nbconvert_exporter": "python",
   "pygments_lexer": "ipython3",
   "version": "3.7.1"
  }
 },
 "nbformat": 4,
 "nbformat_minor": 1
}
